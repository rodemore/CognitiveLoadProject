{
 "cells": [
  {
   "cell_type": "code",
   "execution_count": 125,
   "metadata": {},
   "outputs": [],
   "source": [
    "import pandas as pd\n",
    "%matplotlib inline"
   ]
  },
  {
   "cell_type": "code",
   "execution_count": 126,
   "metadata": {},
   "outputs": [],
   "source": [
    "path = \"./../archivos/\"\n",
    "filename = \"df.csv\""
   ]
  },
  {
   "cell_type": "code",
   "execution_count": 127,
   "metadata": {},
   "outputs": [],
   "source": [
    "df = pd.read_csv(path+filename)\n",
    "df = df[(df[\"time\"]>=0.00) & (df[\"time\"]<=(120000.00+5.00))]"
   ]
  },
  {
   "cell_type": "code",
   "execution_count": 128,
   "metadata": {},
   "outputs": [
    {
     "data": {
      "text/html": [
       "<div>\n",
       "<style scoped>\n",
       "    .dataframe tbody tr th:only-of-type {\n",
       "        vertical-align: middle;\n",
       "    }\n",
       "\n",
       "    .dataframe tbody tr th {\n",
       "        vertical-align: top;\n",
       "    }\n",
       "\n",
       "    .dataframe thead th {\n",
       "        text-align: right;\n",
       "    }\n",
       "</style>\n",
       "<table border=\"1\" class=\"dataframe\">\n",
       "  <thead>\n",
       "    <tr style=\"text-align: right;\">\n",
       "      <th></th>\n",
       "      <th>posX</th>\n",
       "      <th>posY</th>\n",
       "      <th>time</th>\n",
       "      <th>height</th>\n",
       "      <th>width</th>\n",
       "      <th>timestamp</th>\n",
       "    </tr>\n",
       "  </thead>\n",
       "  <tbody>\n",
       "    <tr>\n",
       "      <th>count</th>\n",
       "      <td>7218.000000</td>\n",
       "      <td>7218.000000</td>\n",
       "      <td>7218.000000</td>\n",
       "      <td>7218.000000</td>\n",
       "      <td>7218.000000</td>\n",
       "      <td>7218.000000</td>\n",
       "    </tr>\n",
       "    <tr>\n",
       "      <th>mean</th>\n",
       "      <td>662.673594</td>\n",
       "      <td>424.149626</td>\n",
       "      <td>60061.310784</td>\n",
       "      <td>42.150966</td>\n",
       "      <td>42.150966</td>\n",
       "      <td>126490.760183</td>\n",
       "    </tr>\n",
       "    <tr>\n",
       "      <th>std</th>\n",
       "      <td>114.923787</td>\n",
       "      <td>85.840289</td>\n",
       "      <td>34655.335800</td>\n",
       "      <td>3.202076</td>\n",
       "      <td>3.202076</td>\n",
       "      <td>34655.979731</td>\n",
       "    </tr>\n",
       "    <tr>\n",
       "      <th>min</th>\n",
       "      <td>355.000000</td>\n",
       "      <td>199.000000</td>\n",
       "      <td>0.000000</td>\n",
       "      <td>41.726074</td>\n",
       "      <td>41.726074</td>\n",
       "      <td>66426.000000</td>\n",
       "    </tr>\n",
       "    <tr>\n",
       "      <th>25%</th>\n",
       "      <td>571.000000</td>\n",
       "      <td>347.000000</td>\n",
       "      <td>30048.510010</td>\n",
       "      <td>41.726074</td>\n",
       "      <td>41.726074</td>\n",
       "      <td>96478.250000</td>\n",
       "    </tr>\n",
       "    <tr>\n",
       "      <th>50%</th>\n",
       "      <td>669.000000</td>\n",
       "      <td>423.000000</td>\n",
       "      <td>60166.510010</td>\n",
       "      <td>41.726074</td>\n",
       "      <td>41.726074</td>\n",
       "      <td>126597.000000</td>\n",
       "    </tr>\n",
       "    <tr>\n",
       "      <th>75%</th>\n",
       "      <td>734.000000</td>\n",
       "      <td>505.000000</td>\n",
       "      <td>90036.010010</td>\n",
       "      <td>41.726074</td>\n",
       "      <td>41.726074</td>\n",
       "      <td>156465.750000</td>\n",
       "    </tr>\n",
       "    <tr>\n",
       "      <th>max</th>\n",
       "      <td>1069.000000</td>\n",
       "      <td>606.000000</td>\n",
       "      <td>120004.010010</td>\n",
       "      <td>83.452148</td>\n",
       "      <td>83.452148</td>\n",
       "      <td>186435.000000</td>\n",
       "    </tr>\n",
       "  </tbody>\n",
       "</table>\n",
       "</div>"
      ],
      "text/plain": [
       "              posX         posY           time       height        width  \\\n",
       "count  7218.000000  7218.000000    7218.000000  7218.000000  7218.000000   \n",
       "mean    662.673594   424.149626   60061.310784    42.150966    42.150966   \n",
       "std     114.923787    85.840289   34655.335800     3.202076     3.202076   \n",
       "min     355.000000   199.000000       0.000000    41.726074    41.726074   \n",
       "25%     571.000000   347.000000   30048.510010    41.726074    41.726074   \n",
       "50%     669.000000   423.000000   60166.510010    41.726074    41.726074   \n",
       "75%     734.000000   505.000000   90036.010010    41.726074    41.726074   \n",
       "max    1069.000000   606.000000  120004.010010    83.452148    83.452148   \n",
       "\n",
       "           timestamp  \n",
       "count    7218.000000  \n",
       "mean   126490.760183  \n",
       "std     34655.979731  \n",
       "min     66426.000000  \n",
       "25%     96478.250000  \n",
       "50%    126597.000000  \n",
       "75%    156465.750000  \n",
       "max    186435.000000  "
      ]
     },
     "execution_count": 128,
     "metadata": {},
     "output_type": "execute_result"
    }
   ],
   "source": [
    "df.describe()"
   ]
  },
  {
   "cell_type": "code",
   "execution_count": 129,
   "metadata": {},
   "outputs": [
    {
     "data": {
      "text/html": [
       "<div>\n",
       "<style scoped>\n",
       "    .dataframe tbody tr th:only-of-type {\n",
       "        vertical-align: middle;\n",
       "    }\n",
       "\n",
       "    .dataframe tbody tr th {\n",
       "        vertical-align: top;\n",
       "    }\n",
       "\n",
       "    .dataframe thead th {\n",
       "        text-align: right;\n",
       "    }\n",
       "</style>\n",
       "<table border=\"1\" class=\"dataframe\">\n",
       "  <thead>\n",
       "    <tr style=\"text-align: right;\">\n",
       "      <th></th>\n",
       "      <th>posX</th>\n",
       "      <th>posY</th>\n",
       "      <th>time</th>\n",
       "      <th>height</th>\n",
       "      <th>width</th>\n",
       "      <th>timestamp</th>\n",
       "    </tr>\n",
       "  </thead>\n",
       "  <tbody>\n",
       "    <tr>\n",
       "      <th>0</th>\n",
       "      <td>624</td>\n",
       "      <td>225</td>\n",
       "      <td>0.00000</td>\n",
       "      <td>41.726074</td>\n",
       "      <td>41.726074</td>\n",
       "      <td>66426.0</td>\n",
       "    </tr>\n",
       "    <tr>\n",
       "      <th>1</th>\n",
       "      <td>590</td>\n",
       "      <td>218</td>\n",
       "      <td>15.01001</td>\n",
       "      <td>41.726074</td>\n",
       "      <td>41.726074</td>\n",
       "      <td>66443.0</td>\n",
       "    </tr>\n",
       "    <tr>\n",
       "      <th>2</th>\n",
       "      <td>557</td>\n",
       "      <td>217</td>\n",
       "      <td>31.01001</td>\n",
       "      <td>41.726074</td>\n",
       "      <td>41.726074</td>\n",
       "      <td>66459.0</td>\n",
       "    </tr>\n",
       "    <tr>\n",
       "      <th>3</th>\n",
       "      <td>530</td>\n",
       "      <td>218</td>\n",
       "      <td>48.01001</td>\n",
       "      <td>41.726074</td>\n",
       "      <td>41.726074</td>\n",
       "      <td>66476.0</td>\n",
       "    </tr>\n",
       "    <tr>\n",
       "      <th>4</th>\n",
       "      <td>504</td>\n",
       "      <td>223</td>\n",
       "      <td>65.01001</td>\n",
       "      <td>41.726074</td>\n",
       "      <td>41.726074</td>\n",
       "      <td>66493.0</td>\n",
       "    </tr>\n",
       "  </tbody>\n",
       "</table>\n",
       "</div>"
      ],
      "text/plain": [
       "   posX  posY      time     height      width  timestamp\n",
       "0   624   225   0.00000  41.726074  41.726074    66426.0\n",
       "1   590   218  15.01001  41.726074  41.726074    66443.0\n",
       "2   557   217  31.01001  41.726074  41.726074    66459.0\n",
       "3   530   218  48.01001  41.726074  41.726074    66476.0\n",
       "4   504   223  65.01001  41.726074  41.726074    66493.0"
      ]
     },
     "execution_count": 129,
     "metadata": {},
     "output_type": "execute_result"
    }
   ],
   "source": [
    "df.head()"
   ]
  },
  {
   "cell_type": "code",
   "execution_count": 130,
   "metadata": {},
   "outputs": [],
   "source": [
    "# start, end, tolerance: float\n",
    "def split_dataset(dataframe,start,end,tolerance=5.00):\n",
    "    return dataframe[(dataframe[\"time\"]>=start) & (dataframe[\"time\"]<=(end+tolerance))]"
   ]
  },
  {
   "cell_type": "code",
   "execution_count": 135,
   "metadata": {},
   "outputs": [],
   "source": [
    "def distance_between_points(x1,y1,x2,y2):  \n",
    "    return math.sqrt((x2 - x1)**2 + (y2 - y1)**2)"
   ]
  },
  {
   "cell_type": "code",
   "execution_count": 131,
   "metadata": {},
   "outputs": [],
   "source": [
    "df = split_dataset(df,0.00,120000.00)"
   ]
  },
  {
   "cell_type": "code",
   "execution_count": 150,
   "metadata": {},
   "outputs": [],
   "source": [
    "df1 = split_dataset(df,0.00,20000.00)"
   ]
  },
  {
   "cell_type": "code",
   "execution_count": 134,
   "metadata": {},
   "outputs": [
    {
     "data": {
      "text/plain": [
       "<matplotlib.axes._subplots.AxesSubplot at 0x1b309b11470>"
      ]
     },
     "execution_count": 134,
     "metadata": {},
     "output_type": "execute_result"
    },
    {
     "data": {
      "image/png": "[encoded data removed]",
      "text/plain": [
       "<Figure size 432x288 with 1 Axes>"
      ]
     },
     "metadata": {
      "needs_background": "light"
     },
     "output_type": "display_data"
    }
   ],
   "source": [
    "df1.plot.scatter(x=\"posX\", y=\"posY\")"
   ]
  },
  {
   "cell_type": "code",
   "execution_count": 136,
   "metadata": {},
   "outputs": [
    {
     "data": {
      "text/html": [
       "<div>\n",
       "<style scoped>\n",
       "    .dataframe tbody tr th:only-of-type {\n",
       "        vertical-align: middle;\n",
       "    }\n",
       "\n",
       "    .dataframe tbody tr th {\n",
       "        vertical-align: top;\n",
       "    }\n",
       "\n",
       "    .dataframe thead th {\n",
       "        text-align: right;\n",
       "    }\n",
       "</style>\n",
       "<table border=\"1\" class=\"dataframe\">\n",
       "  <thead>\n",
       "    <tr style=\"text-align: right;\">\n",
       "      <th></th>\n",
       "      <th>posX</th>\n",
       "      <th>posY</th>\n",
       "      <th>time</th>\n",
       "      <th>height</th>\n",
       "      <th>width</th>\n",
       "      <th>timestamp</th>\n",
       "    </tr>\n",
       "  </thead>\n",
       "  <tbody>\n",
       "    <tr>\n",
       "      <th>count</th>\n",
       "      <td>1202.000000</td>\n",
       "      <td>1202.000000</td>\n",
       "      <td>1202.000000</td>\n",
       "      <td>1202.000000</td>\n",
       "      <td>1202.000000</td>\n",
       "      <td>1202.000000</td>\n",
       "    </tr>\n",
       "    <tr>\n",
       "      <th>mean</th>\n",
       "      <td>571.510815</td>\n",
       "      <td>396.634775</td>\n",
       "      <td>9999.749602</td>\n",
       "      <td>41.726074</td>\n",
       "      <td>41.726074</td>\n",
       "      <td>76428.212146</td>\n",
       "    </tr>\n",
       "    <tr>\n",
       "      <th>std</th>\n",
       "      <td>102.072725</td>\n",
       "      <td>97.952565</td>\n",
       "      <td>5781.828839</td>\n",
       "      <td>0.000000</td>\n",
       "      <td>0.000000</td>\n",
       "      <td>5781.944313</td>\n",
       "    </tr>\n",
       "    <tr>\n",
       "      <th>min</th>\n",
       "      <td>355.000000</td>\n",
       "      <td>199.000000</td>\n",
       "      <td>0.000000</td>\n",
       "      <td>41.726074</td>\n",
       "      <td>41.726074</td>\n",
       "      <td>66426.000000</td>\n",
       "    </tr>\n",
       "    <tr>\n",
       "      <th>25%</th>\n",
       "      <td>496.000000</td>\n",
       "      <td>314.250000</td>\n",
       "      <td>4999.010010</td>\n",
       "      <td>41.726074</td>\n",
       "      <td>41.726074</td>\n",
       "      <td>71427.250000</td>\n",
       "    </tr>\n",
       "    <tr>\n",
       "      <th>50%</th>\n",
       "      <td>568.000000</td>\n",
       "      <td>396.000000</td>\n",
       "      <td>10000.010010</td>\n",
       "      <td>41.726074</td>\n",
       "      <td>41.726074</td>\n",
       "      <td>76428.500000</td>\n",
       "    </tr>\n",
       "    <tr>\n",
       "      <th>75%</th>\n",
       "      <td>665.750000</td>\n",
       "      <td>487.000000</td>\n",
       "      <td>15000.760010</td>\n",
       "      <td>41.726074</td>\n",
       "      <td>41.726074</td>\n",
       "      <td>81429.750000</td>\n",
       "    </tr>\n",
       "    <tr>\n",
       "      <th>max</th>\n",
       "      <td>747.000000</td>\n",
       "      <td>575.000000</td>\n",
       "      <td>20002.010010</td>\n",
       "      <td>41.726074</td>\n",
       "      <td>41.726074</td>\n",
       "      <td>86431.000000</td>\n",
       "    </tr>\n",
       "  </tbody>\n",
       "</table>\n",
       "</div>"
      ],
      "text/plain": [
       "              posX         posY          time       height        width  \\\n",
       "count  1202.000000  1202.000000   1202.000000  1202.000000  1202.000000   \n",
       "mean    571.510815   396.634775   9999.749602    41.726074    41.726074   \n",
       "std     102.072725    97.952565   5781.828839     0.000000     0.000000   \n",
       "min     355.000000   199.000000      0.000000    41.726074    41.726074   \n",
       "25%     496.000000   314.250000   4999.010010    41.726074    41.726074   \n",
       "50%     568.000000   396.000000  10000.010010    41.726074    41.726074   \n",
       "75%     665.750000   487.000000  15000.760010    41.726074    41.726074   \n",
       "max     747.000000   575.000000  20002.010010    41.726074    41.726074   \n",
       "\n",
       "          timestamp  \n",
       "count   1202.000000  \n",
       "mean   76428.212146  \n",
       "std     5781.944313  \n",
       "min    66426.000000  \n",
       "25%    71427.250000  \n",
       "50%    76428.500000  \n",
       "75%    81429.750000  \n",
       "max    86431.000000  "
      ]
     },
     "execution_count": 136,
     "metadata": {},
     "output_type": "execute_result"
    }
   ],
   "source": [
    "df1.describe()"
   ]
  },
  {
   "cell_type": "markdown",
   "metadata": {},
   "source": [
    "### Thickness"
   ]
  },
  {
   "cell_type": "code",
   "execution_count": 140,
   "metadata": {},
   "outputs": [],
   "source": [
    "import math"
   ]
  },
  {
   "cell_type": "code",
   "execution_count": 177,
   "metadata": {},
   "outputs": [],
   "source": [
    "centerX = (max(df1[\"posX\"]) + min(df1[\"posX\"]))/2\n",
    "centerY = (max(df1[\"posY\"]) + min(df1[\"posY\"]))/2"
   ]
  },
  {
   "cell_type": "code",
   "execution_count": 179,
   "metadata": {},
   "outputs": [
    {
     "data": {
      "text/html": [
       "<div>\n",
       "<style scoped>\n",
       "    .dataframe tbody tr th:only-of-type {\n",
       "        vertical-align: middle;\n",
       "    }\n",
       "\n",
       "    .dataframe tbody tr th {\n",
       "        vertical-align: top;\n",
       "    }\n",
       "\n",
       "    .dataframe thead th {\n",
       "        text-align: right;\n",
       "    }\n",
       "</style>\n",
       "<table border=\"1\" class=\"dataframe\">\n",
       "  <thead>\n",
       "    <tr style=\"text-align: right;\">\n",
       "      <th></th>\n",
       "      <th>posX</th>\n",
       "      <th>posY</th>\n",
       "      <th>time</th>\n",
       "      <th>height</th>\n",
       "      <th>width</th>\n",
       "      <th>timestamp</th>\n",
       "      <th>relativeX</th>\n",
       "      <th>relativeY</th>\n",
       "      <th>distance</th>\n",
       "    </tr>\n",
       "  </thead>\n",
       "  <tbody>\n",
       "    <tr>\n",
       "      <th>0</th>\n",
       "      <td>624</td>\n",
       "      <td>225</td>\n",
       "      <td>0.00000</td>\n",
       "      <td>41.726074</td>\n",
       "      <td>41.726074</td>\n",
       "      <td>66426.0</td>\n",
       "      <td>5329.0</td>\n",
       "      <td>26244.0</td>\n",
       "      <td>177.687929</td>\n",
       "    </tr>\n",
       "    <tr>\n",
       "      <th>1</th>\n",
       "      <td>590</td>\n",
       "      <td>218</td>\n",
       "      <td>15.01001</td>\n",
       "      <td>41.726074</td>\n",
       "      <td>41.726074</td>\n",
       "      <td>66443.0</td>\n",
       "      <td>1521.0</td>\n",
       "      <td>28561.0</td>\n",
       "      <td>173.441633</td>\n",
       "    </tr>\n",
       "    <tr>\n",
       "      <th>2</th>\n",
       "      <td>557</td>\n",
       "      <td>217</td>\n",
       "      <td>31.01001</td>\n",
       "      <td>41.726074</td>\n",
       "      <td>41.726074</td>\n",
       "      <td>66459.0</td>\n",
       "      <td>36.0</td>\n",
       "      <td>28900.0</td>\n",
       "      <td>170.105849</td>\n",
       "    </tr>\n",
       "    <tr>\n",
       "      <th>3</th>\n",
       "      <td>530</td>\n",
       "      <td>218</td>\n",
       "      <td>48.01001</td>\n",
       "      <td>41.726074</td>\n",
       "      <td>41.726074</td>\n",
       "      <td>66476.0</td>\n",
       "      <td>441.0</td>\n",
       "      <td>28561.0</td>\n",
       "      <td>170.299736</td>\n",
       "    </tr>\n",
       "    <tr>\n",
       "      <th>4</th>\n",
       "      <td>504</td>\n",
       "      <td>223</td>\n",
       "      <td>65.01001</td>\n",
       "      <td>41.726074</td>\n",
       "      <td>41.726074</td>\n",
       "      <td>66493.0</td>\n",
       "      <td>2209.0</td>\n",
       "      <td>26896.0</td>\n",
       "      <td>170.601876</td>\n",
       "    </tr>\n",
       "  </tbody>\n",
       "</table>\n",
       "</div>"
      ],
      "text/plain": [
       "   posX  posY      time     height      width  timestamp  relativeX  \\\n",
       "0   624   225   0.00000  41.726074  41.726074    66426.0     5329.0   \n",
       "1   590   218  15.01001  41.726074  41.726074    66443.0     1521.0   \n",
       "2   557   217  31.01001  41.726074  41.726074    66459.0       36.0   \n",
       "3   530   218  48.01001  41.726074  41.726074    66476.0      441.0   \n",
       "4   504   223  65.01001  41.726074  41.726074    66493.0     2209.0   \n",
       "\n",
       "   relativeY    distance  \n",
       "0    26244.0  177.687929  \n",
       "1    28561.0  173.441633  \n",
       "2    28900.0  170.105849  \n",
       "3    28561.0  170.299736  \n",
       "4    26896.0  170.601876  "
      ]
     },
     "execution_count": 179,
     "metadata": {},
     "output_type": "execute_result"
    }
   ],
   "source": [
    "df1.head()"
   ]
  },
  {
   "cell_type": "code",
   "execution_count": null,
   "metadata": {},
   "outputs": [],
   "source": [
    "'''\n",
    "parameters centerX: from reference point (dynamic center)\n",
    "           centerY: from reference point (dynamic center)\n",
    "           graph: 0 or 1, 0 (default) if not want to graph\n",
    "\n",
    "return (graph=0) minimun distance\n",
    "                 maximun distance\n",
    "                 thickness value\n",
    "'''\n",
    "def thickness(dataframe,centerX,centerY,graph=0):\n",
    "    dataframe[\"distances\"] = distance_between_points(dataframe,centerX,centerY)\n",
    "    min_distance = min(dataframe[\"distances\"])\n",
    "    max_distance = max(dataframe[\"distances\"])\n",
    "    \n",
    "    # to graph\n",
    "    if graph:\n",
    "        serie_min = dataframe[dataframe[\"distances\"] == min_distance]\n",
    "        serie_max = dataframe[dataframe[\"distances\"] == max_distance]\n",
    "\n",
    "        return {\"min_posX\": serie_min[\"posX\"], \"min_posY\": serie_min[\"posY\"], \n",
    "                \"max_posX\": serie_max[\"posX\"], \"max_posY\": serie_max[\"posY\"],\n",
    "                \"centerX\": centerX, \"centerY\": centerY}\n",
    "    \n",
    "    return {\"min_distance\": min_distance, \"max_distance\": max_distance, \"thickness\": max_distance-min_distance}"
   ]
  },
  {
   "cell_type": "code",
   "execution_count": null,
   "metadata": {},
   "outputs": [],
   "source": [
    "'''\n",
    "return Serie with distances between a center point to each point of the given dataframe\n",
    "'''\n",
    "def distance_between_points(dataframe,centerX,centerY):\n",
    "    return (((dataframe[\"posX\"] - centerX)**2)+((dataframe[\"posY\"] - centerY)**2)).apply(lambda x: math.sqrt(x))"
   ]
  },
  {
   "cell_type": "code",
   "execution_count": 195,
   "metadata": {},
   "outputs": [],
   "source": [
    "'''\n",
    "parameters centerX: from reference point (dynamic center)\n",
    "           centerY: from reference point (dynamic center)\n",
    "           \n",
    "return standar deviation of given array (distances)\n",
    "'''\n",
    "def smothness_with_variance(dataframe,centerX,centerY):\n",
    "    distance = np.array(distance_between_points(dataframe,centerX,centerY))\n",
    "    return np.var(distances)"
   ]
  },
  {
   "cell_type": "code",
   "execution_count": null,
   "metadata": {},
   "outputs": [],
   "source": []
  },
  {
   "cell_type": "code",
   "execution_count": null,
   "metadata": {},
   "outputs": [],
   "source": []
  },
  {
   "cell_type": "code",
   "execution_count": null,
   "metadata": {},
   "outputs": [],
   "source": []
  },
  {
   "cell_type": "code",
   "execution_count": null,
   "metadata": {},
   "outputs": [],
   "source": []
  },
  {
   "cell_type": "code",
   "execution_count": null,
   "metadata": {},
   "outputs": [],
   "source": []
  },
  {
   "cell_type": "code",
   "execution_count": null,
   "metadata": {},
   "outputs": [],
   "source": []
  },
  {
   "cell_type": "code",
   "execution_count": 61,
   "metadata": {},
   "outputs": [],
   "source": [
    "df2 = df[(df[\"time\"]>=0.00) & (df[\"time\"]<=(120000.00+5.00))]"
   ]
  },
  {
   "cell_type": "code",
   "execution_count": 62,
   "metadata": {},
   "outputs": [
    {
     "data": {
      "text/html": [
       "<div>\n",
       "<style scoped>\n",
       "    .dataframe tbody tr th:only-of-type {\n",
       "        vertical-align: middle;\n",
       "    }\n",
       "\n",
       "    .dataframe tbody tr th {\n",
       "        vertical-align: top;\n",
       "    }\n",
       "\n",
       "    .dataframe thead th {\n",
       "        text-align: right;\n",
       "    }\n",
       "</style>\n",
       "<table border=\"1\" class=\"dataframe\">\n",
       "  <thead>\n",
       "    <tr style=\"text-align: right;\">\n",
       "      <th></th>\n",
       "      <th>posX</th>\n",
       "      <th>posY</th>\n",
       "      <th>time</th>\n",
       "      <th>height</th>\n",
       "      <th>width</th>\n",
       "      <th>timestamp</th>\n",
       "    </tr>\n",
       "  </thead>\n",
       "  <tbody>\n",
       "    <tr>\n",
       "      <th>count</th>\n",
       "      <td>7218.000000</td>\n",
       "      <td>7218.000000</td>\n",
       "      <td>7218.000000</td>\n",
       "      <td>7218.000000</td>\n",
       "      <td>7218.000000</td>\n",
       "      <td>7218.000000</td>\n",
       "    </tr>\n",
       "    <tr>\n",
       "      <th>mean</th>\n",
       "      <td>662.673594</td>\n",
       "      <td>424.149626</td>\n",
       "      <td>60061.310784</td>\n",
       "      <td>42.150966</td>\n",
       "      <td>42.150966</td>\n",
       "      <td>126490.760183</td>\n",
       "    </tr>\n",
       "    <tr>\n",
       "      <th>std</th>\n",
       "      <td>114.923787</td>\n",
       "      <td>85.840289</td>\n",
       "      <td>34655.335800</td>\n",
       "      <td>3.202076</td>\n",
       "      <td>3.202076</td>\n",
       "      <td>34655.979731</td>\n",
       "    </tr>\n",
       "    <tr>\n",
       "      <th>min</th>\n",
       "      <td>355.000000</td>\n",
       "      <td>199.000000</td>\n",
       "      <td>0.000000</td>\n",
       "      <td>41.726074</td>\n",
       "      <td>41.726074</td>\n",
       "      <td>66426.000000</td>\n",
       "    </tr>\n",
       "    <tr>\n",
       "      <th>25%</th>\n",
       "      <td>571.000000</td>\n",
       "      <td>347.000000</td>\n",
       "      <td>30048.510010</td>\n",
       "      <td>41.726074</td>\n",
       "      <td>41.726074</td>\n",
       "      <td>96478.250000</td>\n",
       "    </tr>\n",
       "    <tr>\n",
       "      <th>50%</th>\n",
       "      <td>669.000000</td>\n",
       "      <td>423.000000</td>\n",
       "      <td>60166.510010</td>\n",
       "      <td>41.726074</td>\n",
       "      <td>41.726074</td>\n",
       "      <td>126597.000000</td>\n",
       "    </tr>\n",
       "    <tr>\n",
       "      <th>75%</th>\n",
       "      <td>734.000000</td>\n",
       "      <td>505.000000</td>\n",
       "      <td>90036.010010</td>\n",
       "      <td>41.726074</td>\n",
       "      <td>41.726074</td>\n",
       "      <td>156465.750000</td>\n",
       "    </tr>\n",
       "    <tr>\n",
       "      <th>max</th>\n",
       "      <td>1069.000000</td>\n",
       "      <td>606.000000</td>\n",
       "      <td>120004.010010</td>\n",
       "      <td>83.452148</td>\n",
       "      <td>83.452148</td>\n",
       "      <td>186435.000000</td>\n",
       "    </tr>\n",
       "  </tbody>\n",
       "</table>\n",
       "</div>"
      ],
      "text/plain": [
       "              posX         posY           time       height        width  \\\n",
       "count  7218.000000  7218.000000    7218.000000  7218.000000  7218.000000   \n",
       "mean    662.673594   424.149626   60061.310784    42.150966    42.150966   \n",
       "std     114.923787    85.840289   34655.335800     3.202076     3.202076   \n",
       "min     355.000000   199.000000       0.000000    41.726074    41.726074   \n",
       "25%     571.000000   347.000000   30048.510010    41.726074    41.726074   \n",
       "50%     669.000000   423.000000   60166.510010    41.726074    41.726074   \n",
       "75%     734.000000   505.000000   90036.010010    41.726074    41.726074   \n",
       "max    1069.000000   606.000000  120004.010010    83.452148    83.452148   \n",
       "\n",
       "           timestamp  \n",
       "count    7218.000000  \n",
       "mean   126490.760183  \n",
       "std     34655.979731  \n",
       "min     66426.000000  \n",
       "25%     96478.250000  \n",
       "50%    126597.000000  \n",
       "75%    156465.750000  \n",
       "max    186435.000000  "
      ]
     },
     "execution_count": 62,
     "metadata": {},
     "output_type": "execute_result"
    }
   ],
   "source": [
    "df2.describe()"
   ]
  },
  {
   "cell_type": "code",
   "execution_count": 63,
   "metadata": {},
   "outputs": [
    {
     "data": {
      "text/plain": [
       "posX           624.000000\n",
       "posY           225.000000\n",
       "time             0.000000\n",
       "height          41.726074\n",
       "width           41.726074\n",
       "timestamp    66426.000000\n",
       "Name: 0, dtype: float64"
      ]
     },
     "execution_count": 63,
     "metadata": {},
     "output_type": "execute_result"
    }
   ],
   "source": [
    "df2.iloc[0,:]"
   ]
  },
  {
   "cell_type": "code",
   "execution_count": 68,
   "metadata": {},
   "outputs": [
    {
     "data": {
      "text/html": [
       "<div>\n",
       "<style scoped>\n",
       "    .dataframe tbody tr th:only-of-type {\n",
       "        vertical-align: middle;\n",
       "    }\n",
       "\n",
       "    .dataframe tbody tr th {\n",
       "        vertical-align: top;\n",
       "    }\n",
       "\n",
       "    .dataframe thead th {\n",
       "        text-align: right;\n",
       "    }\n",
       "</style>\n",
       "<table border=\"1\" class=\"dataframe\">\n",
       "  <thead>\n",
       "    <tr style=\"text-align: right;\">\n",
       "      <th></th>\n",
       "      <th>posX</th>\n",
       "      <th>posY</th>\n",
       "      <th>time</th>\n",
       "      <th>height</th>\n",
       "      <th>width</th>\n",
       "      <th>timestamp</th>\n",
       "    </tr>\n",
       "  </thead>\n",
       "  <tbody>\n",
       "    <tr>\n",
       "      <th>0</th>\n",
       "      <td>624</td>\n",
       "      <td>225</td>\n",
       "      <td>0.00000</td>\n",
       "      <td>41.726074</td>\n",
       "      <td>41.726074</td>\n",
       "      <td>66426.0</td>\n",
       "    </tr>\n",
       "    <tr>\n",
       "      <th>1</th>\n",
       "      <td>590</td>\n",
       "      <td>218</td>\n",
       "      <td>15.01001</td>\n",
       "      <td>41.726074</td>\n",
       "      <td>41.726074</td>\n",
       "      <td>66443.0</td>\n",
       "    </tr>\n",
       "    <tr>\n",
       "      <th>2</th>\n",
       "      <td>557</td>\n",
       "      <td>217</td>\n",
       "      <td>31.01001</td>\n",
       "      <td>41.726074</td>\n",
       "      <td>41.726074</td>\n",
       "      <td>66459.0</td>\n",
       "    </tr>\n",
       "    <tr>\n",
       "      <th>3</th>\n",
       "      <td>530</td>\n",
       "      <td>218</td>\n",
       "      <td>48.01001</td>\n",
       "      <td>41.726074</td>\n",
       "      <td>41.726074</td>\n",
       "      <td>66476.0</td>\n",
       "    </tr>\n",
       "    <tr>\n",
       "      <th>4</th>\n",
       "      <td>504</td>\n",
       "      <td>223</td>\n",
       "      <td>65.01001</td>\n",
       "      <td>41.726074</td>\n",
       "      <td>41.726074</td>\n",
       "      <td>66493.0</td>\n",
       "    </tr>\n",
       "  </tbody>\n",
       "</table>\n",
       "</div>"
      ],
      "text/plain": [
       "   posX  posY      time     height      width  timestamp\n",
       "0   624   225   0.00000  41.726074  41.726074    66426.0\n",
       "1   590   218  15.01001  41.726074  41.726074    66443.0\n",
       "2   557   217  31.01001  41.726074  41.726074    66459.0\n",
       "3   530   218  48.01001  41.726074  41.726074    66476.0\n",
       "4   504   223  65.01001  41.726074  41.726074    66493.0"
      ]
     },
     "execution_count": 68,
     "metadata": {},
     "output_type": "execute_result"
    }
   ],
   "source": [
    "df2.head()"
   ]
  },
  {
   "cell_type": "code",
   "execution_count": 111,
   "metadata": {},
   "outputs": [],
   "source": [
    "df3 = df[(df[\"time\"]>=0.00) & (df[\"time\"]<=(725.00+5.00))]\n",
    "df4 =  df[(df[\"time\"]>=725.00) & (df[\"time\"]<=((725.00*2)+5.00))]"
   ]
  },
  {
   "cell_type": "code",
   "execution_count": 110,
   "metadata": {},
   "outputs": [
    {
     "data": {
      "text/plain": [
       "714.010009765625"
      ]
     },
     "execution_count": 110,
     "metadata": {},
     "output_type": "execute_result"
    }
   ],
   "source": [
    "diff_time = df3.iloc[-1,2] - df3.iloc[0,2]\n",
    "diff_time"
   ]
  },
  {
   "cell_type": "code",
   "execution_count": 112,
   "metadata": {},
   "outputs": [
    {
     "data": {
      "text/plain": [
       "717.0"
      ]
     },
     "execution_count": 112,
     "metadata": {},
     "output_type": "execute_result"
    }
   ],
   "source": [
    "diff_time = df4.iloc[-1,2] - df4.iloc[0,2]\n",
    "diff_time"
   ]
  },
  {
   "cell_type": "code",
   "execution_count": 113,
   "metadata": {},
   "outputs": [
    {
     "data": {
      "text/plain": [
       "<matplotlib.axes._subplots.AxesSubplot at 0x1b309941a90>"
      ]
     },
     "execution_count": 113,
     "metadata": {},
     "output_type": "execute_result"
    },
    {
     "data": {
      "image/png": "[encoded data removed]",
      "text/plain": [
       "<Figure size 432x288 with 1 Axes>"
      ]
     },
     "metadata": {
      "needs_background": "light"
     },
     "output_type": "display_data"
    }
   ],
   "source": [
    "df4.plot.scatter(x=\"posX\", y=\"posY\")"
   ]
  },
  {
   "cell_type": "code",
   "execution_count": 192,
   "metadata": {},
   "outputs": [
    {
     "data": {
      "text/plain": [
       "<matplotlib.axes._subplots.AxesSubplot at 0x1b30a3e1fd0>"
      ]
     },
     "execution_count": 192,
     "metadata": {},
     "output_type": "execute_result"
    },
    {
     "data": {
      "image/png": "[encoded data removed]",
      "text/plain": [
       "<Figure size 432x288 with 1 Axes>"
      ]
     },
     "metadata": {
      "needs_background": "light"
     },
     "output_type": "display_data"
    }
   ],
   "source": [
    "df5 = df.iloc[89:135]\n",
    "df5.plot.scatter(x=\"posX\", y=\"posY\")"
   ]
  },
  {
   "cell_type": "code",
   "execution_count": 180,
   "metadata": {},
   "outputs": [
    {
     "data": {
      "text/html": [
       "<div>\n",
       "<style scoped>\n",
       "    .dataframe tbody tr th:only-of-type {\n",
       "        vertical-align: middle;\n",
       "    }\n",
       "\n",
       "    .dataframe tbody tr th {\n",
       "        vertical-align: top;\n",
       "    }\n",
       "\n",
       "    .dataframe thead th {\n",
       "        text-align: right;\n",
       "    }\n",
       "</style>\n",
       "<table border=\"1\" class=\"dataframe\">\n",
       "  <thead>\n",
       "    <tr style=\"text-align: right;\">\n",
       "      <th></th>\n",
       "      <th>posX</th>\n",
       "      <th>posY</th>\n",
       "      <th>time</th>\n",
       "      <th>height</th>\n",
       "      <th>width</th>\n",
       "      <th>timestamp</th>\n",
       "    </tr>\n",
       "  </thead>\n",
       "  <tbody>\n",
       "    <tr>\n",
       "      <th>count</th>\n",
       "      <td>44.000000</td>\n",
       "      <td>44.000000</td>\n",
       "      <td>44.000000</td>\n",
       "      <td>44.000000</td>\n",
       "      <td>44.000000</td>\n",
       "      <td>44.000000</td>\n",
       "    </tr>\n",
       "    <tr>\n",
       "      <th>mean</th>\n",
       "      <td>531.045455</td>\n",
       "      <td>375.931818</td>\n",
       "      <td>1088.964555</td>\n",
       "      <td>41.726074</td>\n",
       "      <td>41.726074</td>\n",
       "      <td>67517.136364</td>\n",
       "    </tr>\n",
       "    <tr>\n",
       "      <th>std</th>\n",
       "      <td>120.268876</td>\n",
       "      <td>131.524761</td>\n",
       "      <td>214.098972</td>\n",
       "      <td>0.000000</td>\n",
       "      <td>0.000000</td>\n",
       "      <td>213.980611</td>\n",
       "    </tr>\n",
       "    <tr>\n",
       "      <th>min</th>\n",
       "      <td>374.000000</td>\n",
       "      <td>206.000000</td>\n",
       "      <td>730.010010</td>\n",
       "      <td>41.726074</td>\n",
       "      <td>41.726074</td>\n",
       "      <td>67159.000000</td>\n",
       "    </tr>\n",
       "    <tr>\n",
       "      <th>25%</th>\n",
       "      <td>413.750000</td>\n",
       "      <td>251.250000</td>\n",
       "      <td>910.760010</td>\n",
       "      <td>41.726074</td>\n",
       "      <td>41.726074</td>\n",
       "      <td>67338.000000</td>\n",
       "    </tr>\n",
       "    <tr>\n",
       "      <th>50%</th>\n",
       "      <td>528.500000</td>\n",
       "      <td>357.500000</td>\n",
       "      <td>1089.010010</td>\n",
       "      <td>41.726074</td>\n",
       "      <td>41.726074</td>\n",
       "      <td>67517.500000</td>\n",
       "    </tr>\n",
       "    <tr>\n",
       "      <th>75%</th>\n",
       "      <td>644.500000</td>\n",
       "      <td>504.750000</td>\n",
       "      <td>1268.260010</td>\n",
       "      <td>41.726074</td>\n",
       "      <td>41.726074</td>\n",
       "      <td>67696.250000</td>\n",
       "    </tr>\n",
       "    <tr>\n",
       "      <th>max</th>\n",
       "      <td>713.000000</td>\n",
       "      <td>575.000000</td>\n",
       "      <td>1447.010010</td>\n",
       "      <td>41.726074</td>\n",
       "      <td>41.726074</td>\n",
       "      <td>67875.000000</td>\n",
       "    </tr>\n",
       "  </tbody>\n",
       "</table>\n",
       "</div>"
      ],
      "text/plain": [
       "             posX        posY         time     height      width     timestamp\n",
       "count   44.000000   44.000000    44.000000  44.000000  44.000000     44.000000\n",
       "mean   531.045455  375.931818  1088.964555  41.726074  41.726074  67517.136364\n",
       "std    120.268876  131.524761   214.098972   0.000000   0.000000    213.980611\n",
       "min    374.000000  206.000000   730.010010  41.726074  41.726074  67159.000000\n",
       "25%    413.750000  251.250000   910.760010  41.726074  41.726074  67338.000000\n",
       "50%    528.500000  357.500000  1089.010010  41.726074  41.726074  67517.500000\n",
       "75%    644.500000  504.750000  1268.260010  41.726074  41.726074  67696.250000\n",
       "max    713.000000  575.000000  1447.010010  41.726074  41.726074  67875.000000"
      ]
     },
     "execution_count": 180,
     "metadata": {},
     "output_type": "execute_result"
    }
   ],
   "source": [
    "df4.describe()"
   ]
  },
  {
   "cell_type": "code",
   "execution_count": 116,
   "metadata": {},
   "outputs": [
    {
     "data": {
      "text/html": [
       "<div>\n",
       "<style scoped>\n",
       "    .dataframe tbody tr th:only-of-type {\n",
       "        vertical-align: middle;\n",
       "    }\n",
       "\n",
       "    .dataframe tbody tr th {\n",
       "        vertical-align: top;\n",
       "    }\n",
       "\n",
       "    .dataframe thead th {\n",
       "        text-align: right;\n",
       "    }\n",
       "</style>\n",
       "<table border=\"1\" class=\"dataframe\">\n",
       "  <thead>\n",
       "    <tr style=\"text-align: right;\">\n",
       "      <th></th>\n",
       "      <th>posX</th>\n",
       "      <th>posY</th>\n",
       "      <th>time</th>\n",
       "      <th>height</th>\n",
       "      <th>width</th>\n",
       "      <th>timestamp</th>\n",
       "    </tr>\n",
       "  </thead>\n",
       "  <tbody>\n",
       "    <tr>\n",
       "      <th>0</th>\n",
       "      <td>624</td>\n",
       "      <td>225</td>\n",
       "      <td>0.00000</td>\n",
       "      <td>41.726074</td>\n",
       "      <td>41.726074</td>\n",
       "      <td>66426.0</td>\n",
       "    </tr>\n",
       "    <tr>\n",
       "      <th>42</th>\n",
       "      <td>616</td>\n",
       "      <td>219</td>\n",
       "      <td>698.01001</td>\n",
       "      <td>41.726074</td>\n",
       "      <td>41.726074</td>\n",
       "      <td>67126.0</td>\n",
       "    </tr>\n",
       "  </tbody>\n",
       "</table>\n",
       "</div>"
      ],
      "text/plain": [
       "    posX  posY       time     height      width  timestamp\n",
       "0    624   225    0.00000  41.726074  41.726074    66426.0\n",
       "42   616   219  698.01001  41.726074  41.726074    67126.0"
      ]
     },
     "execution_count": 116,
     "metadata": {},
     "output_type": "execute_result"
    }
   ],
   "source": [
    "num = 10\n",
    "vueltas = df3[((df3[\"posX\"]<=df3.iloc[0,0]+num) & (df3[\"posX\"]>=df3.iloc[0,0]-num)) & ((df3[\"posY\"]<=df3.iloc[0,1]+num) & (df3[\"posX\"]>=df3.iloc[0,1]-num))]\n",
    "vueltas"
   ]
  },
  {
   "cell_type": "code",
   "execution_count": null,
   "metadata": {},
   "outputs": [],
   "source": []
  },
  {
   "cell_type": "code",
   "execution_count": null,
   "metadata": {},
   "outputs": [],
   "source": []
  },
  {
   "cell_type": "markdown",
   "metadata": {},
   "source": [
    "# ///////////////////////////////"
   ]
  },
  {
   "cell_type": "code",
   "execution_count": 4,
   "metadata": {},
   "outputs": [],
   "source": [
    "num_dif = pd.read_csv(path+\"numerico_dificil.tsv\",sep=\"\\t\")\n",
    "num_fac = pd.read_csv(path+\"numerico_facil.tsv\",sep=\"\\t\")\n",
    "sec_dif = pd.read_csv(path+\"secuencia_dificil.tsv\",sep=\"\\t\")\n",
    "sec_fac = pd.read_csv(path+\"secuencia_facil.tsv\",sep=\"\\t\")\n",
    "sec_fac_v2 = pd.read_csv(path+\"secuencia_facil_2.tsv\",sep=\"\\t\")"
   ]
  },
  {
   "cell_type": "code",
   "execution_count": 10,
   "metadata": {},
   "outputs": [
    {
     "data": {
      "text/html": [
       "<div>\n",
       "<style scoped>\n",
       "    .dataframe tbody tr th:only-of-type {\n",
       "        vertical-align: middle;\n",
       "    }\n",
       "\n",
       "    .dataframe tbody tr th {\n",
       "        vertical-align: top;\n",
       "    }\n",
       "\n",
       "    .dataframe thead th {\n",
       "        text-align: right;\n",
       "    }\n",
       "</style>\n",
       "<table border=\"1\" class=\"dataframe\">\n",
       "  <thead>\n",
       "    <tr style=\"text-align: right;\">\n",
       "      <th></th>\n",
       "      <th>posX</th>\n",
       "      <th>posY</th>\n",
       "      <th>pressure</th>\n",
       "      <th>movementX</th>\n",
       "      <th>movementY</th>\n",
       "      <th>time</th>\n",
       "    </tr>\n",
       "  </thead>\n",
       "  <tbody>\n",
       "    <tr>\n",
       "      <th>0</th>\n",
       "      <td>732.134766</td>\n",
       "      <td>510.842834</td>\n",
       "      <td>0.066667</td>\n",
       "      <td>0</td>\n",
       "      <td>0</td>\n",
       "      <td>-2210.5</td>\n",
       "    </tr>\n",
       "    <tr>\n",
       "      <th>1</th>\n",
       "      <td>722.679138</td>\n",
       "      <td>498.676727</td>\n",
       "      <td>0.066667</td>\n",
       "      <td>-7</td>\n",
       "      <td>-9</td>\n",
       "      <td>-1866.7</td>\n",
       "    </tr>\n",
       "    <tr>\n",
       "      <th>2</th>\n",
       "      <td>707.820312</td>\n",
       "      <td>477.048126</td>\n",
       "      <td>0.066667</td>\n",
       "      <td>-11</td>\n",
       "      <td>-16</td>\n",
       "      <td>-1850.0</td>\n",
       "    </tr>\n",
       "    <tr>\n",
       "      <th>3</th>\n",
       "      <td>647.034241</td>\n",
       "      <td>424.328339</td>\n",
       "      <td>0.066667</td>\n",
       "      <td>-45</td>\n",
       "      <td>-39</td>\n",
       "      <td>-1809.0</td>\n",
       "    </tr>\n",
       "    <tr>\n",
       "      <th>4</th>\n",
       "      <td>614.614929</td>\n",
       "      <td>404.051483</td>\n",
       "      <td>0.066667</td>\n",
       "      <td>-24</td>\n",
       "      <td>-15</td>\n",
       "      <td>-1791.5</td>\n",
       "    </tr>\n",
       "  </tbody>\n",
       "</table>\n",
       "</div>"
      ],
      "text/plain": [
       "         posX        posY  pressure  movementX  movementY    time\n",
       "0  732.134766  510.842834  0.066667          0          0 -2210.5\n",
       "1  722.679138  498.676727  0.066667         -7         -9 -1866.7\n",
       "2  707.820312  477.048126  0.066667        -11        -16 -1850.0\n",
       "3  647.034241  424.328339  0.066667        -45        -39 -1809.0\n",
       "4  614.614929  404.051483  0.066667        -24        -15 -1791.5"
      ]
     },
     "execution_count": 10,
     "metadata": {},
     "output_type": "execute_result"
    }
   ],
   "source": [
    "# num_dif.head()\n",
    "# num_fac.head()\n",
    "# sec_dif.head()\n",
    "# sec_fac.head()\n",
    "sec_fac_v2.head()"
   ]
  },
  {
   "cell_type": "code",
   "execution_count": 19,
   "metadata": {},
   "outputs": [
    {
     "data": {
      "text/html": [
       "<div>\n",
       "<style scoped>\n",
       "    .dataframe tbody tr th:only-of-type {\n",
       "        vertical-align: middle;\n",
       "    }\n",
       "\n",
       "    .dataframe tbody tr th {\n",
       "        vertical-align: top;\n",
       "    }\n",
       "\n",
       "    .dataframe thead th {\n",
       "        text-align: right;\n",
       "    }\n",
       "</style>\n",
       "<table border=\"1\" class=\"dataframe\">\n",
       "  <thead>\n",
       "    <tr style=\"text-align: right;\">\n",
       "      <th></th>\n",
       "      <th>posX</th>\n",
       "      <th>posY</th>\n",
       "      <th>movementX</th>\n",
       "      <th>movementY</th>\n",
       "      <th>time</th>\n",
       "    </tr>\n",
       "  </thead>\n",
       "  <tbody>\n",
       "    <tr>\n",
       "      <th>count</th>\n",
       "      <td>2573.000000</td>\n",
       "      <td>2573.000000</td>\n",
       "      <td>2573.000000</td>\n",
       "      <td>2573.000000</td>\n",
       "      <td>2573.000000</td>\n",
       "    </tr>\n",
       "    <tr>\n",
       "      <th>mean</th>\n",
       "      <td>468.354497</td>\n",
       "      <td>765.205053</td>\n",
       "      <td>-0.224640</td>\n",
       "      <td>0.783133</td>\n",
       "      <td>51262.514147</td>\n",
       "    </tr>\n",
       "    <tr>\n",
       "      <th>std</th>\n",
       "      <td>149.197939</td>\n",
       "      <td>207.378753</td>\n",
       "      <td>48.350474</td>\n",
       "      <td>67.465454</td>\n",
       "      <td>26325.301289</td>\n",
       "    </tr>\n",
       "    <tr>\n",
       "      <th>min</th>\n",
       "      <td>133.729416</td>\n",
       "      <td>314.833435</td>\n",
       "      <td>-149.000000</td>\n",
       "      <td>-190.000000</td>\n",
       "      <td>0.000000</td>\n",
       "    </tr>\n",
       "    <tr>\n",
       "      <th>25%</th>\n",
       "      <td>337.700531</td>\n",
       "      <td>581.135864</td>\n",
       "      <td>-38.000000</td>\n",
       "      <td>-48.000000</td>\n",
       "      <td>26318.300000</td>\n",
       "    </tr>\n",
       "    <tr>\n",
       "      <th>50%</th>\n",
       "      <td>470.079132</td>\n",
       "      <td>774.441650</td>\n",
       "      <td>-1.000000</td>\n",
       "      <td>3.000000</td>\n",
       "      <td>48467.900000</td>\n",
       "    </tr>\n",
       "    <tr>\n",
       "      <th>75%</th>\n",
       "      <td>597.054565</td>\n",
       "      <td>939.359863</td>\n",
       "      <td>37.000000</td>\n",
       "      <td>51.000000</td>\n",
       "      <td>69934.400000</td>\n",
       "    </tr>\n",
       "    <tr>\n",
       "      <th>max</th>\n",
       "      <td>971.226746</td>\n",
       "      <td>1612.550903</td>\n",
       "      <td>250.000000</td>\n",
       "      <td>305.000000</td>\n",
       "      <td>119988.800000</td>\n",
       "    </tr>\n",
       "  </tbody>\n",
       "</table>\n",
       "</div>"
      ],
      "text/plain": [
       "              posX         posY    movementX    movementY           time\n",
       "count  2573.000000  2573.000000  2573.000000  2573.000000    2573.000000\n",
       "mean    468.354497   765.205053    -0.224640     0.783133   51262.514147\n",
       "std     149.197939   207.378753    48.350474    67.465454   26325.301289\n",
       "min     133.729416   314.833435  -149.000000  -190.000000       0.000000\n",
       "25%     337.700531   581.135864   -38.000000   -48.000000   26318.300000\n",
       "50%     470.079132   774.441650    -1.000000     3.000000   48467.900000\n",
       "75%     597.054565   939.359863    37.000000    51.000000   69934.400000\n",
       "max     971.226746  1612.550903   250.000000   305.000000  119988.800000"
      ]
     },
     "execution_count": 19,
     "metadata": {},
     "output_type": "execute_result"
    }
   ],
   "source": [
    "data = num_dif\n",
    "#del data[\"pressure\"]\n",
    "data.describe()"
   ]
  },
  {
   "cell_type": "code",
   "execution_count": null,
   "metadata": {},
   "outputs": [],
   "source": []
  }
 ],
 "metadata": {
  "kernelspec": {
   "display_name": "Python 3",
   "language": "python",
   "name": "python3"
  },
  "language_info": {
   "codemirror_mode": {
    "name": "ipython",
    "version": 3
   },
   "file_extension": ".py",
   "mimetype": "text/x-python",
   "name": "python",
   "nbconvert_exporter": "python",
   "pygments_lexer": "ipython3",
   "version": "3.7.3"
  }
 },
 "nbformat": 4,
 "nbformat_minor": 2
}
